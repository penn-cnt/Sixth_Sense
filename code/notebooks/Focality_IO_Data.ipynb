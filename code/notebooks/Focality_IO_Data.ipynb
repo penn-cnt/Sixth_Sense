{
 "cells": [
  {
   "cell_type": "markdown",
   "metadata": {},
   "source": [
    "# Book for Saving/Loading Bandpower and Network Features"
   ]
  },
  {
   "cell_type": "markdown",
   "metadata": {},
   "source": [
    "## imports"
   ]
  },
  {
   "cell_type": "code",
   "execution_count": 1,
   "metadata": {},
   "outputs": [],
   "source": [
    "from glob import glob\n",
    "import os\n",
    "import sys\n",
    "\n",
    "code_path = os.path.dirname(os.getcwd())\n",
    "sys.path.append(code_path)\n",
    "\n",
    "import warnings\n",
    "import json\n",
    "from os.path import join as ospj\n",
    "import numpy as np\n",
    "import pandas as pd\n",
    "import tools\n",
    "import seaborn as sns\n",
    "import matplotlib.pyplot as plt\n",
    "from tqdm import tqdm\n",
    "\n",
    "os.environ['PYTHONWARNINGS']='ignore::FutureWarning' # for parallel\n",
    "\n",
    "warnings.filterwarnings(\"ignore\")\n",
    "\n",
    "from sklearn import *"
   ]
  },
  {
   "cell_type": "markdown",
   "metadata": {},
   "source": [
    "### set Params"
   ]
  },
  {
   "cell_type": "code",
   "execution_count": 2,
   "metadata": {},
   "outputs": [],
   "source": [
    "bands = [\n",
    "    [0.5, 4], # delta\n",
    "    [4, 8], # theta\n",
    "    [8, 12], # alpha\n",
    "    [12, 30], # beta\n",
    "    [30, 80], # gamma\n",
    "    [0.5, 80] # broad\n",
    "]\n",
    "band_names = [\"delta\", \"theta\", \"alpha\", \"beta\", \"gamma\", \"broad\"]\n",
    "N_BANDS = len(bands)"
   ]
  },
  {
   "attachments": {},
   "cell_type": "markdown",
   "metadata": {},
   "source": [
    "### load metadata"
   ]
  },
  {
   "cell_type": "code",
   "execution_count": 3,
   "metadata": {},
   "outputs": [],
   "source": [
    "with open(\"../config.json\", 'rb') as f:\n",
    "    config = json.load(f)\n",
    "repo_path = config['repositoryPath']\n",
    "metadata_path = ospj(repo_path, 'ieeg-metadata')\n",
    "data_path = ospj(repo_path, 'data')"
   ]
  },
  {
   "cell_type": "code",
   "execution_count": 4,
   "metadata": {},
   "outputs": [],
   "source": [
    "patient_list = pd.read_csv(ospj(metadata_path, \"patient_list.csv\"))['patient']"
   ]
  },
  {
   "attachments": {},
   "cell_type": "markdown",
   "metadata": {},
   "source": [
    "\n",
    "## Main"
   ]
  },
  {
   "attachments": {},
   "cell_type": "markdown",
   "metadata": {},
   "source": [
    "### Load patient bandpower"
   ]
  },
  {
   "cell_type": "code",
   "execution_count": 6,
   "metadata": {},
   "outputs": [
    {
     "name": "stderr",
     "output_type": "stream",
     "text": [
      "100%|██████████| 101/101 [00:22<00:00,  4.54it/s]\n"
     ]
    }
   ],
   "source": [
    "AllPtPxx = []\n",
    "ZScoreDf = []\n",
    "time_periods = ['interictal']\n",
    "for pt_num, patient in tqdm(enumerate(patient_list), total=len(patient_list)):\n",
    "    try:\n",
    "        PtDf  = tools.LoadBandpower(data_path, patient, time_periods)\n",
    "    except:\n",
    "        continue\n",
    "    \n",
    "    AllPtPxx.append(PtDf)\n",
    "AllPtPxx = pd.concat(AllPtPxx)\n",
    "AllPtPxx.to_pickle(ospj(data_path, \"AllPtPxxBipolar.pkl\"))"
   ]
  },
  {
   "attachments": {},
   "cell_type": "markdown",
   "metadata": {},
   "source": [
    "### Load Networks and Calculate Features"
   ]
  },
  {
   "cell_type": "code",
   "execution_count": 7,
   "metadata": {},
   "outputs": [
    {
     "name": "stderr",
     "output_type": "stream",
     "text": [
      "100%|██████████| 101/101 [00:14<00:00,  6.83it/s]\n"
     ]
    }
   ],
   "source": [
    "AllPtNxx = []\n",
    "time_periods = ['interictal']\n",
    "for pt_num, patient in tqdm(enumerate(patient_list), total=len(patient_list)):\n",
    "    try:\n",
    "        PtDf  = tools.LoadNetworks(data_path, patient, time_periods)\n",
    "    except:\n",
    "        continue\n",
    "    AllPtNxx.append(PtDf)\n",
    "AllPtNxx = pd.concat(AllPtNxx)\n",
    "AllPtNxx = (\n",
    "        AllPtNxx.melt(ignore_index=False, var_name=\"band\", value_name=\"coherence\")\n",
    "        .set_index(\"band\", append=True)\n",
    "        .reorder_levels([\"patient\", \"period\", \"clip\",  'band', \"channel_1\", \"channel_2\",])\n",
    "    )\n",
    "AllPtNxx.to_pickle(ospj(data_path, \"AllPtNxxBipolar.pkl\"))"
   ]
  }
 ],
 "metadata": {
  "kernelspec": {
   "display_name": "Python 3.10.6 ('ieegpy-dev')",
   "language": "python",
   "name": "python3"
  },
  "language_info": {
   "codemirror_mode": {
    "name": "ipython",
    "version": 3
   },
   "file_extension": ".py",
   "mimetype": "text/x-python",
   "name": "python",
   "nbconvert_exporter": "python",
   "pygments_lexer": "ipython3",
   "version": "3.10.10"
  },
  "orig_nbformat": 4,
  "vscode": {
   "interpreter": {
    "hash": "80eb179119a36a2ea9b2c0921329152c681f95d7a4d6e937c0a6f5b5cedd93f9"
   }
  }
 },
 "nbformat": 4,
 "nbformat_minor": 2
}
